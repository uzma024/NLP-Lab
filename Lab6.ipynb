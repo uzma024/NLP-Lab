{
 "cells": [
  {
   "cell_type": "code",
   "execution_count": 115,
   "id": "e05905ab",
   "metadata": {},
   "outputs": [],
   "source": [
    "# Byte Pair Encoding"
   ]
  },
  {
   "cell_type": "code",
   "execution_count": 116,
   "id": "0639e52f",
   "metadata": {},
   "outputs": [],
   "source": [
    "V = [] #All unique charcters in C"
   ]
  },
  {
   "cell_type": "code",
   "execution_count": 117,
   "id": "a2cf9a92",
   "metadata": {},
   "outputs": [],
   "source": [
    "corpus = \"low low low low low lowest lowest newer newer newer newer newer newer wider wider wider new new\""
   ]
  },
  {
   "cell_type": "code",
   "execution_count": 118,
   "id": "1688a0d8",
   "metadata": {},
   "outputs": [],
   "source": [
    "from nltk.tokenize import word_tokenize"
   ]
  },
  {
   "cell_type": "code",
   "execution_count": 119,
   "id": "a3f18d87",
   "metadata": {},
   "outputs": [
    {
     "data": {
      "text/plain": [
       "['low_',\n",
       " 'low_',\n",
       " 'low_',\n",
       " 'low_',\n",
       " 'low_',\n",
       " 'lowest_',\n",
       " 'lowest_',\n",
       " 'newer_',\n",
       " 'newer_',\n",
       " 'newer_',\n",
       " 'newer_',\n",
       " 'newer_',\n",
       " 'newer_',\n",
       " 'wider_',\n",
       " 'wider_',\n",
       " 'wider_',\n",
       " 'new_',\n",
       " 'new_']"
      ]
     },
     "execution_count": 119,
     "metadata": {},
     "output_type": "execute_result"
    }
   ],
   "source": [
    "words = [w+'_' for w in word_tokenize(corpus)]\n",
    "words"
   ]
  },
  {
   "cell_type": "code",
   "execution_count": 120,
   "id": "d7b95395",
   "metadata": {},
   "outputs": [
    {
     "data": {
      "text/plain": [
       "{'low_': 5, 'lowest_': 2, 'newer_': 6, 'wider_': 3, 'new_': 2}"
      ]
     },
     "execution_count": 120,
     "metadata": {},
     "output_type": "execute_result"
    }
   ],
   "source": [
    "counts = {}\n",
    "\n",
    "for w in words:\n",
    "    if w in counts:\n",
    "        counts[w] +=1\n",
    "    else:\n",
    "        counts[w] = 1\n",
    "counts"
   ]
  },
  {
   "cell_type": "code",
   "execution_count": 121,
   "id": "9a01ad56",
   "metadata": {},
   "outputs": [
    {
     "data": {
      "text/plain": [
       "{'low_': ['l', 'o', 'w', '_'],\n",
       " 'lowest_': ['l', 'o', 'w', 'e', 's', 't', '_'],\n",
       " 'newer_': ['n', 'e', 'w', 'e', 'r', '_'],\n",
       " 'wider_': ['w', 'i', 'd', 'e', 'r', '_'],\n",
       " 'new_': ['n', 'e', 'w', '_']}"
      ]
     },
     "execution_count": 121,
     "metadata": {},
     "output_type": "execute_result"
    }
   ],
   "source": [
    "corpus ={}\n",
    "\n",
    "for word in counts:\n",
    "    corpus[word]= [c for c in word]\n",
    "corpus"
   ]
  },
  {
   "cell_type": "code",
   "execution_count": null,
   "id": "1991342c",
   "metadata": {},
   "outputs": [],
   "source": []
  },
  {
   "cell_type": "code",
   "execution_count": 122,
   "id": "640cf0e0",
   "metadata": {},
   "outputs": [],
   "source": [
    "def make_pairs(v):\n",
    "    pairs = set()\n",
    "    for i in v:\n",
    "        if i !='_':\n",
    "            for j in v:\n",
    "                if i != j:\n",
    "                    pairs.add(i+','+j)\n",
    "    return pairs  "
   ]
  },
  {
   "cell_type": "code",
   "execution_count": 123,
   "id": "5b965316",
   "metadata": {},
   "outputs": [],
   "source": [
    "def count_pair_freq(all_pairs,corpus):\n",
    "    pair_freq ={}\n",
    "    \n",
    "    for pair in all_pairs:\n",
    "        for word in corpus:\n",
    "            char_list = corpus[word]\n",
    "            for i in range(len(char_list)-1):\n",
    "                curr_pair = char_list[i]+ ',' + char_list[i+1]\n",
    "                if curr_pair == pair:\n",
    "                    if pair in pair_freq:\n",
    "                        pair_freq[pair]+=counts[word]\n",
    "                    else:\n",
    "                        pair_freq[pair]=counts[word]\n",
    "    return pair_freq\n",
    "    "
   ]
  },
  {
   "cell_type": "code",
   "execution_count": 124,
   "id": "7616fe3b",
   "metadata": {},
   "outputs": [],
   "source": [
    "def get_max_pair(pair_freq):\n",
    "    Tl=''\n",
    "    Tr=''\n",
    "    max_freq =0\n",
    "    for p in pair_freq:\n",
    "        if pair_freq[p]>max_freq:\n",
    "            Tl,Tr = p.split(',')\n",
    "            max_freq = pair_freq[p]\n",
    "    \n",
    "    return [Tl,Tr]"
   ]
  },
  {
   "cell_type": "code",
   "execution_count": 125,
   "id": "dc42ec2a",
   "metadata": {},
   "outputs": [],
   "source": [
    "def new_corpus(corpus,Tl,Tr):\n",
    "    \n",
    "    for word in corpus:\n",
    "        new_list = []\n",
    "        i =0\n",
    "        while (i < (len(corpus[word]))):\n",
    "            if corpus[word][i]==Tl and corpus[word][i+1]==Tr:\n",
    "                new_list.append(Tl+Tr)\n",
    "                i+=2\n",
    "            else:\n",
    "                new_list.append(corpus[word][i])\n",
    "                i+=1\n",
    "        corpus[word] = new_list\n",
    "    return corpus\n",
    "                "
   ]
  },
  {
   "cell_type": "code",
   "execution_count": 126,
   "id": "323ff90f",
   "metadata": {},
   "outputs": [],
   "source": [
    "def get_vocab(corpus):\n",
    "    V = set()\n",
    "\n",
    "    for word in corpus:\n",
    "        for w in corpus[word]:\n",
    "            V.add(w)\n",
    "    return V"
   ]
  },
  {
   "cell_type": "code",
   "execution_count": 127,
   "id": "d4a61409",
   "metadata": {},
   "outputs": [],
   "source": [
    "V = get_vocab(corpus)\n",
    "def BPE(corpus,k):\n",
    "    for i in range(k):\n",
    "        \n",
    "        print(\"corpus: \",corpus)\n",
    "        \n",
    "        # get new vocab:\n",
    "        vocab = get_vocab(corpus)\n",
    "        print(\"vocab: \",vocab)\n",
    "        \n",
    "        \n",
    "        # Most frequent pair of adjacent tokens in C\n",
    "        all_pairs = make_pairs(vocab)\n",
    "#         print(\"all_pairs: \",all_pairs)\n",
    "        \n",
    "        count_pairs = count_pair_freq(all_pairs,corpus)\n",
    "        print(\"count_pairs: \",count_pairs)\n",
    "        \n",
    "        Tl,Tr = get_max_pair(count_pairs)\n",
    "        print(\"max_pairs: \",Tl,\" \",Tr,\"\\n\")\n",
    "\n",
    "        Tnew = Tl + Tr\n",
    "        V.add(Tnew)\n",
    "\n",
    "\n",
    "        # Replace each occurrence of tL, tR in C with tNEW\n",
    "        corpus = new_corpus(corpus,Tl,Tr)\n",
    "    \n",
    "    return V\n",
    "\n",
    "    "
   ]
  },
  {
   "cell_type": "code",
   "execution_count": 128,
   "id": "219445eb",
   "metadata": {},
   "outputs": [
    {
     "name": "stdout",
     "output_type": "stream",
     "text": [
      "corpus:  {'low_': ['l', 'o', 'w', '_'], 'lowest_': ['l', 'o', 'w', 'e', 's', 't', '_'], 'newer_': ['n', 'e', 'w', 'e', 'r', '_'], 'wider_': ['w', 'i', 'd', 'e', 'r', '_'], 'new_': ['n', 'e', 'w', '_']}\n",
      "vocab:  {'o', 'n', 'i', 's', 'l', 'e', 't', 'd', 'r', 'w', '_'}\n",
      "count_pairs:  {'d,e': 3, 'l,o': 7, 'w,_': 7, 'w,e': 8, 'i,d': 3, 'e,w': 8, 'w,i': 3, 'e,r': 9, 'o,w': 7, 's,t': 2, 'r,_': 9, 'e,s': 2, 'n,e': 8, 't,_': 2}\n",
      "max_pairs:  e   r \n",
      "\n",
      "corpus:  {'low_': ['l', 'o', 'w', '_'], 'lowest_': ['l', 'o', 'w', 'e', 's', 't', '_'], 'newer_': ['n', 'e', 'w', 'er', '_'], 'wider_': ['w', 'i', 'd', 'er', '_'], 'new_': ['n', 'e', 'w', '_']}\n",
      "vocab:  {'er', 'o', 'n', 'i', 's', 'l', 'e', 't', 'd', 'w', '_'}\n",
      "count_pairs:  {'l,o': 7, 'w,_': 7, 'er,_': 9, 'w,e': 2, 'i,d': 3, 'e,w': 8, 'w,i': 3, 'd,er': 3, 'o,w': 7, 'w,er': 6, 's,t': 2, 'e,s': 2, 'n,e': 8, 't,_': 2}\n",
      "max_pairs:  er   _ \n",
      "\n",
      "corpus:  {'low_': ['l', 'o', 'w', '_'], 'lowest_': ['l', 'o', 'w', 'e', 's', 't', '_'], 'newer_': ['n', 'e', 'w', 'er_'], 'wider_': ['w', 'i', 'd', 'er_'], 'new_': ['n', 'e', 'w', '_']}\n",
      "vocab:  {'er_', 'o', 'n', 'i', 's', 'l', 'e', 't', 'd', 'w', '_'}\n",
      "count_pairs:  {'l,o': 7, 'w,_': 7, 'w,e': 2, 'i,d': 3, 'e,w': 8, 'w,i': 3, 'w,er_': 6, 'd,er_': 3, 'o,w': 7, 's,t': 2, 'e,s': 2, 'n,e': 8, 't,_': 2}\n",
      "max_pairs:  e   w \n",
      "\n",
      "corpus:  {'low_': ['l', 'o', 'w', '_'], 'lowest_': ['l', 'o', 'w', 'e', 's', 't', '_'], 'newer_': ['n', 'ew', 'er_'], 'wider_': ['w', 'i', 'd', 'er_'], 'new_': ['n', 'ew', '_']}\n",
      "vocab:  {'er_', 'o', 'n', 'ew', 's', 'i', 'l', 'e', 't', 'd', 'w', '_'}\n",
      "count_pairs:  {'l,o': 7, 'w,_': 5, 'w,e': 2, 'i,d': 3, 'w,i': 3, 'n,ew': 8, 'd,er_': 3, 'ew,er_': 6, 'o,w': 7, 's,t': 2, 'e,s': 2, 'ew,_': 2, 't,_': 2}\n",
      "max_pairs:  n   ew \n",
      "\n",
      "corpus:  {'low_': ['l', 'o', 'w', '_'], 'lowest_': ['l', 'o', 'w', 'e', 's', 't', '_'], 'newer_': ['new', 'er_'], 'wider_': ['w', 'i', 'd', 'er_'], 'new_': ['new', '_']}\n",
      "vocab:  {'er_', 'o', 'i', 's', 'l', 'e', 'new', 't', 'd', 'w', '_'}\n",
      "count_pairs:  {'l,o': 7, 'w,_': 5, 't,_': 2, 'w,e': 2, 'i,d': 3, 'w,i': 3, 'new,er_': 6, 'd,er_': 3, 'o,w': 7, 's,t': 2, 'e,s': 2, 'new,_': 2}\n",
      "max_pairs:  l   o \n",
      "\n",
      "corpus:  {'low_': ['lo', 'w', '_'], 'lowest_': ['lo', 'w', 'e', 's', 't', '_'], 'newer_': ['new', 'er_'], 'wider_': ['w', 'i', 'd', 'er_'], 'new_': ['new', '_']}\n",
      "vocab:  {'er_', 'i', 's', 'e', 'new', 't', 'lo', 'd', 'w', '_'}\n",
      "count_pairs:  {'w,_': 5, 'w,e': 2, 'i,d': 3, 'w,i': 3, 'lo,w': 7, 'new,er_': 6, 'd,er_': 3, 'new,_': 2, 's,t': 2, 'e,s': 2, 't,_': 2}\n",
      "max_pairs:  lo   w \n",
      "\n",
      "corpus:  {'low_': ['low', '_'], 'lowest_': ['low', 'e', 's', 't', '_'], 'newer_': ['new', 'er_'], 'wider_': ['w', 'i', 'd', 'er_'], 'new_': ['new', '_']}\n",
      "vocab:  {'er_', 'i', 's', 'e', 'new', 't', 'd', 'low', 'w', '_'}\n",
      "count_pairs:  {'low,_': 5, 'i,d': 3, 'w,i': 3, 'low,e': 2, 'new,er_': 6, 'd,er_': 3, 'new,_': 2, 's,t': 2, 'e,s': 2, 't,_': 2}\n",
      "max_pairs:  new   er_ \n",
      "\n",
      "corpus:  {'low_': ['low', '_'], 'lowest_': ['low', 'e', 's', 't', '_'], 'newer_': ['newer_'], 'wider_': ['w', 'i', 'd', 'er_'], 'new_': ['new', '_']}\n",
      "vocab:  {'er_', 'i', 's', 'newer_', 'e', 'new', 't', 'd', 'low', 'w', '_'}\n",
      "count_pairs:  {'low,_': 5, 'i,d': 3, 'w,i': 3, 'low,e': 2, 'd,er_': 3, 'new,_': 2, 's,t': 2, 'e,s': 2, 't,_': 2}\n",
      "max_pairs:  low   _ \n",
      "\n",
      "corpus:  {'low_': ['low_'], 'lowest_': ['low', 'e', 's', 't', '_'], 'newer_': ['newer_'], 'wider_': ['w', 'i', 'd', 'er_'], 'new_': ['new', '_']}\n",
      "vocab:  {'er_', 'low_', 'i', 's', 'newer_', 'e', 'new', 't', 'd', 'low', 'w', '_'}\n",
      "count_pairs:  {'t,_': 2, 'i,d': 3, 'w,i': 3, 'low,e': 2, 'd,er_': 3, 's,t': 2, 'e,s': 2, 'new,_': 2}\n",
      "max_pairs:  i   d \n",
      "\n"
     ]
    },
    {
     "data": {
      "text/plain": [
       "{'_',\n",
       " 'd',\n",
       " 'e',\n",
       " 'er',\n",
       " 'er_',\n",
       " 'ew',\n",
       " 'i',\n",
       " 'id',\n",
       " 'l',\n",
       " 'lo',\n",
       " 'low',\n",
       " 'low_',\n",
       " 'n',\n",
       " 'new',\n",
       " 'newer_',\n",
       " 'o',\n",
       " 'r',\n",
       " 's',\n",
       " 't',\n",
       " 'w'}"
      ]
     },
     "execution_count": 128,
     "metadata": {},
     "output_type": "execute_result"
    }
   ],
   "source": [
    "BPE(corpus,9)"
   ]
  },
  {
   "cell_type": "code",
   "execution_count": null,
   "id": "bd59835c",
   "metadata": {},
   "outputs": [],
   "source": []
  }
 ],
 "metadata": {
  "kernelspec": {
   "display_name": "Python 3",
   "language": "python",
   "name": "python3"
  },
  "language_info": {
   "codemirror_mode": {
    "name": "ipython",
    "version": 3
   },
   "file_extension": ".py",
   "mimetype": "text/x-python",
   "name": "python",
   "nbconvert_exporter": "python",
   "pygments_lexer": "ipython3",
   "version": "3.8.8"
  }
 },
 "nbformat": 4,
 "nbformat_minor": 5
}
