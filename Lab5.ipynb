{
 "cells": [
  {
   "cell_type": "code",
   "execution_count": 1,
   "id": "a155cb78",
   "metadata": {},
   "outputs": [],
   "source": [
    "#maximum matching segmentation algorithm for text"
   ]
  },
  {
   "cell_type": "code",
   "execution_count": 3,
   "id": "54eab441",
   "metadata": {},
   "outputs": [
    {
     "name": "stderr",
     "output_type": "stream",
     "text": [
      "[nltk_data] Downloading package words to\n",
      "[nltk_data]     /Users/uzmafirozkhan/nltk_data...\n",
      "[nltk_data]   Package words is already up-to-date!\n"
     ]
    },
    {
     "data": {
      "text/plain": [
       "True"
      ]
     },
     "execution_count": 3,
     "metadata": {},
     "output_type": "execute_result"
    }
   ],
   "source": [
    "from nltk.corpus import words\n",
    "import nltk\n",
    "nltk.download('words')"
   ]
  },
  {
   "cell_type": "code",
   "execution_count": 6,
   "id": "3a883f4f",
   "metadata": {},
   "outputs": [],
   "source": [
    "# string = \"ThisisinsaneItseasytomapitssemanticsrightWellhowaboutThisisinsaneyourmindstillreadsitasThisisinsaneWellhowdoesitdoitHowwillacomputerdoitTherearelanguageslikeChinesewhichhavenospacesbetweenthemSohowdoesacomputermapmeaningofsuchlanguagesTodayletstalkaboutanalgorithmthathelpsindoingsoItscalledthemaximummatchingalgorithm\"\n",
    "string = \"“wecanonlyseeashortdistanceahead”\"\n",
    "tokens = []\n",
    "string = string.lower() \n",
    "lowerCaseCorpus = set(word.lower() for word in words.words())"
   ]
  },
  {
   "cell_type": "code",
   "execution_count": null,
   "id": "333206d8",
   "metadata": {},
   "outputs": [],
   "source": [
    "i = 0\n",
    "while i < len(string):\n",
    "    maxWord = \"\"\n",
    "    for j in range(i, len(string)):\n",
    "        if string[i:j+1] in lowerCaseCorpus and len(string[i:j+1]) > len(maxWord):\n",
    "            maxWord = string[i:j+1]\n",
    "    i += len(maxWord)\n",
    "    tokens.append(maxWord)\n",
    "\n",
    "print(tokens)"
   ]
  },
  {
   "cell_type": "code",
   "execution_count": null,
   "id": "9b0bdfdf",
   "metadata": {},
   "outputs": [],
   "source": []
  }
 ],
 "metadata": {
  "kernelspec": {
   "display_name": "Python 3",
   "language": "python",
   "name": "python3"
  },
  "language_info": {
   "codemirror_mode": {
    "name": "ipython",
    "version": 3
   },
   "file_extension": ".py",
   "mimetype": "text/x-python",
   "name": "python",
   "nbconvert_exporter": "python",
   "pygments_lexer": "ipython3",
   "version": "3.8.8"
  }
 },
 "nbformat": 4,
 "nbformat_minor": 5
}
